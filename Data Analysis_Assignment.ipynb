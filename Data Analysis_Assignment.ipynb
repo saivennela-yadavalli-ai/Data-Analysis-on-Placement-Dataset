{
 "cells": [
  {
   "cell_type": "code",
   "execution_count": 2,
   "id": "c4bfbd1f-a680-4139-b8e0-6ca7fb824756",
   "metadata": {},
   "outputs": [],
   "source": [
    "# import necessary libraries \n",
    "\n",
    "import pandas as pd\n",
    "import numpy as np\n",
    "import seaborn as sns\n",
    "import warnings\n",
    "warnings.filterwarnings('ignore')"
   ]
  },
  {
   "cell_type": "code",
   "execution_count": 3,
   "id": "c941dbf2-f1a5-4d47-8155-b29df61b78c1",
   "metadata": {},
   "outputs": [
    {
     "data": {
      "text/html": [
       "<div>\n",
       "<style scoped>\n",
       "    .dataframe tbody tr th:only-of-type {\n",
       "        vertical-align: middle;\n",
       "    }\n",
       "\n",
       "    .dataframe tbody tr th {\n",
       "        vertical-align: top;\n",
       "    }\n",
       "\n",
       "    .dataframe thead th {\n",
       "        text-align: right;\n",
       "    }\n",
       "</style>\n",
       "<table border=\"1\" class=\"dataframe\">\n",
       "  <thead>\n",
       "    <tr style=\"text-align: right;\">\n",
       "      <th></th>\n",
       "      <th>sl_no</th>\n",
       "      <th>gender</th>\n",
       "      <th>ssc_p</th>\n",
       "      <th>ssc_b</th>\n",
       "      <th>hsc_p</th>\n",
       "      <th>hsc_b</th>\n",
       "      <th>hsc_s</th>\n",
       "      <th>degree_p</th>\n",
       "      <th>degree_t</th>\n",
       "      <th>workex</th>\n",
       "      <th>etest_p</th>\n",
       "      <th>specialisation</th>\n",
       "      <th>mba_p</th>\n",
       "      <th>status</th>\n",
       "      <th>salary</th>\n",
       "    </tr>\n",
       "  </thead>\n",
       "  <tbody>\n",
       "    <tr>\n",
       "      <th>0</th>\n",
       "      <td>1</td>\n",
       "      <td>M</td>\n",
       "      <td>67.00</td>\n",
       "      <td>Others</td>\n",
       "      <td>91.00</td>\n",
       "      <td>Others</td>\n",
       "      <td>Commerce</td>\n",
       "      <td>58.00</td>\n",
       "      <td>Sci&amp;Tech</td>\n",
       "      <td>No</td>\n",
       "      <td>55.0</td>\n",
       "      <td>Mkt&amp;HR</td>\n",
       "      <td>58.80</td>\n",
       "      <td>Placed</td>\n",
       "      <td>270000.0</td>\n",
       "    </tr>\n",
       "    <tr>\n",
       "      <th>1</th>\n",
       "      <td>2</td>\n",
       "      <td>M</td>\n",
       "      <td>79.33</td>\n",
       "      <td>Central</td>\n",
       "      <td>78.33</td>\n",
       "      <td>Others</td>\n",
       "      <td>Science</td>\n",
       "      <td>77.48</td>\n",
       "      <td>Sci&amp;Tech</td>\n",
       "      <td>Yes</td>\n",
       "      <td>86.5</td>\n",
       "      <td>Mkt&amp;Fin</td>\n",
       "      <td>66.28</td>\n",
       "      <td>Placed</td>\n",
       "      <td>200000.0</td>\n",
       "    </tr>\n",
       "    <tr>\n",
       "      <th>2</th>\n",
       "      <td>3</td>\n",
       "      <td>M</td>\n",
       "      <td>65.00</td>\n",
       "      <td>Central</td>\n",
       "      <td>68.00</td>\n",
       "      <td>Central</td>\n",
       "      <td>Arts</td>\n",
       "      <td>64.00</td>\n",
       "      <td>Comm&amp;Mgmt</td>\n",
       "      <td>No</td>\n",
       "      <td>75.0</td>\n",
       "      <td>Mkt&amp;Fin</td>\n",
       "      <td>57.80</td>\n",
       "      <td>Placed</td>\n",
       "      <td>250000.0</td>\n",
       "    </tr>\n",
       "    <tr>\n",
       "      <th>3</th>\n",
       "      <td>4</td>\n",
       "      <td>M</td>\n",
       "      <td>56.00</td>\n",
       "      <td>Central</td>\n",
       "      <td>52.00</td>\n",
       "      <td>Central</td>\n",
       "      <td>Science</td>\n",
       "      <td>52.00</td>\n",
       "      <td>Sci&amp;Tech</td>\n",
       "      <td>No</td>\n",
       "      <td>66.0</td>\n",
       "      <td>Mkt&amp;HR</td>\n",
       "      <td>59.43</td>\n",
       "      <td>Not Placed</td>\n",
       "      <td>NaN</td>\n",
       "    </tr>\n",
       "    <tr>\n",
       "      <th>4</th>\n",
       "      <td>5</td>\n",
       "      <td>M</td>\n",
       "      <td>85.80</td>\n",
       "      <td>Central</td>\n",
       "      <td>73.60</td>\n",
       "      <td>Central</td>\n",
       "      <td>Commerce</td>\n",
       "      <td>73.30</td>\n",
       "      <td>Comm&amp;Mgmt</td>\n",
       "      <td>No</td>\n",
       "      <td>96.8</td>\n",
       "      <td>Mkt&amp;Fin</td>\n",
       "      <td>55.50</td>\n",
       "      <td>Placed</td>\n",
       "      <td>425000.0</td>\n",
       "    </tr>\n",
       "    <tr>\n",
       "      <th>...</th>\n",
       "      <td>...</td>\n",
       "      <td>...</td>\n",
       "      <td>...</td>\n",
       "      <td>...</td>\n",
       "      <td>...</td>\n",
       "      <td>...</td>\n",
       "      <td>...</td>\n",
       "      <td>...</td>\n",
       "      <td>...</td>\n",
       "      <td>...</td>\n",
       "      <td>...</td>\n",
       "      <td>...</td>\n",
       "      <td>...</td>\n",
       "      <td>...</td>\n",
       "      <td>...</td>\n",
       "    </tr>\n",
       "    <tr>\n",
       "      <th>210</th>\n",
       "      <td>211</td>\n",
       "      <td>M</td>\n",
       "      <td>80.60</td>\n",
       "      <td>Others</td>\n",
       "      <td>82.00</td>\n",
       "      <td>Others</td>\n",
       "      <td>Commerce</td>\n",
       "      <td>77.60</td>\n",
       "      <td>Comm&amp;Mgmt</td>\n",
       "      <td>No</td>\n",
       "      <td>91.0</td>\n",
       "      <td>Mkt&amp;Fin</td>\n",
       "      <td>74.49</td>\n",
       "      <td>Placed</td>\n",
       "      <td>400000.0</td>\n",
       "    </tr>\n",
       "    <tr>\n",
       "      <th>211</th>\n",
       "      <td>212</td>\n",
       "      <td>M</td>\n",
       "      <td>58.00</td>\n",
       "      <td>Others</td>\n",
       "      <td>60.00</td>\n",
       "      <td>Others</td>\n",
       "      <td>Science</td>\n",
       "      <td>72.00</td>\n",
       "      <td>Sci&amp;Tech</td>\n",
       "      <td>No</td>\n",
       "      <td>74.0</td>\n",
       "      <td>Mkt&amp;Fin</td>\n",
       "      <td>53.62</td>\n",
       "      <td>Placed</td>\n",
       "      <td>275000.0</td>\n",
       "    </tr>\n",
       "    <tr>\n",
       "      <th>212</th>\n",
       "      <td>213</td>\n",
       "      <td>M</td>\n",
       "      <td>67.00</td>\n",
       "      <td>Others</td>\n",
       "      <td>67.00</td>\n",
       "      <td>Others</td>\n",
       "      <td>Commerce</td>\n",
       "      <td>73.00</td>\n",
       "      <td>Comm&amp;Mgmt</td>\n",
       "      <td>Yes</td>\n",
       "      <td>59.0</td>\n",
       "      <td>Mkt&amp;Fin</td>\n",
       "      <td>69.72</td>\n",
       "      <td>Placed</td>\n",
       "      <td>295000.0</td>\n",
       "    </tr>\n",
       "    <tr>\n",
       "      <th>213</th>\n",
       "      <td>214</td>\n",
       "      <td>F</td>\n",
       "      <td>74.00</td>\n",
       "      <td>Others</td>\n",
       "      <td>66.00</td>\n",
       "      <td>Others</td>\n",
       "      <td>Commerce</td>\n",
       "      <td>58.00</td>\n",
       "      <td>Comm&amp;Mgmt</td>\n",
       "      <td>No</td>\n",
       "      <td>70.0</td>\n",
       "      <td>Mkt&amp;HR</td>\n",
       "      <td>60.23</td>\n",
       "      <td>Placed</td>\n",
       "      <td>204000.0</td>\n",
       "    </tr>\n",
       "    <tr>\n",
       "      <th>214</th>\n",
       "      <td>215</td>\n",
       "      <td>M</td>\n",
       "      <td>62.00</td>\n",
       "      <td>Central</td>\n",
       "      <td>58.00</td>\n",
       "      <td>Others</td>\n",
       "      <td>Science</td>\n",
       "      <td>53.00</td>\n",
       "      <td>Comm&amp;Mgmt</td>\n",
       "      <td>No</td>\n",
       "      <td>89.0</td>\n",
       "      <td>Mkt&amp;HR</td>\n",
       "      <td>60.22</td>\n",
       "      <td>Not Placed</td>\n",
       "      <td>NaN</td>\n",
       "    </tr>\n",
       "  </tbody>\n",
       "</table>\n",
       "<p>215 rows × 15 columns</p>\n",
       "</div>"
      ],
      "text/plain": [
       "     sl_no gender  ssc_p    ssc_b  hsc_p    hsc_b     hsc_s  degree_p  \\\n",
       "0        1      M  67.00   Others  91.00   Others  Commerce     58.00   \n",
       "1        2      M  79.33  Central  78.33   Others   Science     77.48   \n",
       "2        3      M  65.00  Central  68.00  Central      Arts     64.00   \n",
       "3        4      M  56.00  Central  52.00  Central   Science     52.00   \n",
       "4        5      M  85.80  Central  73.60  Central  Commerce     73.30   \n",
       "..     ...    ...    ...      ...    ...      ...       ...       ...   \n",
       "210    211      M  80.60   Others  82.00   Others  Commerce     77.60   \n",
       "211    212      M  58.00   Others  60.00   Others   Science     72.00   \n",
       "212    213      M  67.00   Others  67.00   Others  Commerce     73.00   \n",
       "213    214      F  74.00   Others  66.00   Others  Commerce     58.00   \n",
       "214    215      M  62.00  Central  58.00   Others   Science     53.00   \n",
       "\n",
       "      degree_t workex  etest_p specialisation  mba_p      status    salary  \n",
       "0     Sci&Tech     No     55.0         Mkt&HR  58.80      Placed  270000.0  \n",
       "1     Sci&Tech    Yes     86.5        Mkt&Fin  66.28      Placed  200000.0  \n",
       "2    Comm&Mgmt     No     75.0        Mkt&Fin  57.80      Placed  250000.0  \n",
       "3     Sci&Tech     No     66.0         Mkt&HR  59.43  Not Placed       NaN  \n",
       "4    Comm&Mgmt     No     96.8        Mkt&Fin  55.50      Placed  425000.0  \n",
       "..         ...    ...      ...            ...    ...         ...       ...  \n",
       "210  Comm&Mgmt     No     91.0        Mkt&Fin  74.49      Placed  400000.0  \n",
       "211   Sci&Tech     No     74.0        Mkt&Fin  53.62      Placed  275000.0  \n",
       "212  Comm&Mgmt    Yes     59.0        Mkt&Fin  69.72      Placed  295000.0  \n",
       "213  Comm&Mgmt     No     70.0         Mkt&HR  60.23      Placed  204000.0  \n",
       "214  Comm&Mgmt     No     89.0         Mkt&HR  60.22  Not Placed       NaN  \n",
       "\n",
       "[215 rows x 15 columns]"
      ]
     },
     "execution_count": 3,
     "metadata": {},
     "output_type": "execute_result"
    }
   ],
   "source": [
    "# Load the Dataset\n",
    "\n",
    "Dataset = pd.read_csv(\"Placement.csv\")\n",
    "\n",
    "Dataset"
   ]
  },
  {
   "cell_type": "code",
   "execution_count": 4,
   "id": "e9222ead-9efa-419a-a592-1c8f94f37b7e",
   "metadata": {},
   "outputs": [
    {
     "data": {
      "text/plain": [
       "sl_no              0\n",
       "gender             0\n",
       "ssc_p              0\n",
       "ssc_b              0\n",
       "hsc_p              0\n",
       "hsc_b              0\n",
       "hsc_s              0\n",
       "degree_p           0\n",
       "degree_t           0\n",
       "workex             0\n",
       "etest_p            0\n",
       "specialisation     0\n",
       "mba_p              0\n",
       "status             0\n",
       "salary            67\n",
       "dtype: int64"
      ]
     },
     "execution_count": 4,
     "metadata": {},
     "output_type": "execute_result"
    }
   ],
   "source": [
    "# Checking Null values\n",
    "\n",
    "Dataset.isna().sum()"
   ]
  },
  {
   "cell_type": "markdown",
   "id": "f840294c-c2cf-4ec4-ad5a-45a02f004153",
   "metadata": {},
   "source": [
    "## Q1) Replace the NaN values with correct value. And justify why you have chosen the same."
   ]
  },
  {
   "cell_type": "code",
   "execution_count": 5,
   "id": "eb6f1ed3-e364-49ab-b30e-055c44f191a7",
   "metadata": {},
   "outputs": [],
   "source": [
    "# Filling Null Values with Zero\n",
    "\n",
    "Dataset[\"salary\"].fillna(0, inplace = True)"
   ]
  },
  {
   "cell_type": "markdown",
   "id": "0265e791-190f-4730-aa6a-1247879ac6af",
   "metadata": {},
   "source": [
    "### Explanation:\n",
    "\n",
    "I filled the Null values with **zeros** because, in the dataset, the **Salary** column contains NaN values for candidates whose **Status** is **\"Not placed\"**. If I were to fill these missing values with the mean, median, or mode, it would distort the meaning of the dataset. By using zeros instead, the original information remains accurate—clearly indicating no salary for those not placed—while also making the dataset easier to handle."
   ]
  },
  {
   "cell_type": "code",
   "execution_count": 6,
   "id": "58c7ce1a-f2f9-4112-8a06-9c1149249d0b",
   "metadata": {},
   "outputs": [
    {
     "data": {
      "text/plain": [
       "sl_no             0\n",
       "gender            0\n",
       "ssc_p             0\n",
       "ssc_b             0\n",
       "hsc_p             0\n",
       "hsc_b             0\n",
       "hsc_s             0\n",
       "degree_p          0\n",
       "degree_t          0\n",
       "workex            0\n",
       "etest_p           0\n",
       "specialisation    0\n",
       "mba_p             0\n",
       "status            0\n",
       "salary            0\n",
       "dtype: int64"
      ]
     },
     "execution_count": 6,
     "metadata": {},
     "output_type": "execute_result"
    }
   ],
   "source": [
    "Dataset.isna().sum()"
   ]
  },
  {
   "cell_type": "code",
   "execution_count": 7,
   "id": "ac69ac43-8fdd-4642-a2df-81b0ea573433",
   "metadata": {},
   "outputs": [],
   "source": [
    "Dataset.drop(columns = [\"sl_no\"], inplace = True)"
   ]
  },
  {
   "cell_type": "code",
   "execution_count": 8,
   "id": "75a228c1-9e02-41e9-bb51-b8ef010da3a8",
   "metadata": {},
   "outputs": [
    {
     "data": {
      "text/html": [
       "<div>\n",
       "<style scoped>\n",
       "    .dataframe tbody tr th:only-of-type {\n",
       "        vertical-align: middle;\n",
       "    }\n",
       "\n",
       "    .dataframe tbody tr th {\n",
       "        vertical-align: top;\n",
       "    }\n",
       "\n",
       "    .dataframe thead th {\n",
       "        text-align: right;\n",
       "    }\n",
       "</style>\n",
       "<table border=\"1\" class=\"dataframe\">\n",
       "  <thead>\n",
       "    <tr style=\"text-align: right;\">\n",
       "      <th></th>\n",
       "      <th>gender</th>\n",
       "      <th>ssc_p</th>\n",
       "      <th>ssc_b</th>\n",
       "      <th>hsc_p</th>\n",
       "      <th>hsc_b</th>\n",
       "      <th>hsc_s</th>\n",
       "      <th>degree_p</th>\n",
       "      <th>degree_t</th>\n",
       "      <th>workex</th>\n",
       "      <th>etest_p</th>\n",
       "      <th>specialisation</th>\n",
       "      <th>mba_p</th>\n",
       "      <th>status</th>\n",
       "      <th>salary</th>\n",
       "    </tr>\n",
       "  </thead>\n",
       "  <tbody>\n",
       "    <tr>\n",
       "      <th>0</th>\n",
       "      <td>M</td>\n",
       "      <td>67.00</td>\n",
       "      <td>Others</td>\n",
       "      <td>91.00</td>\n",
       "      <td>Others</td>\n",
       "      <td>Commerce</td>\n",
       "      <td>58.00</td>\n",
       "      <td>Sci&amp;Tech</td>\n",
       "      <td>No</td>\n",
       "      <td>55.0</td>\n",
       "      <td>Mkt&amp;HR</td>\n",
       "      <td>58.80</td>\n",
       "      <td>Placed</td>\n",
       "      <td>270000.0</td>\n",
       "    </tr>\n",
       "    <tr>\n",
       "      <th>1</th>\n",
       "      <td>M</td>\n",
       "      <td>79.33</td>\n",
       "      <td>Central</td>\n",
       "      <td>78.33</td>\n",
       "      <td>Others</td>\n",
       "      <td>Science</td>\n",
       "      <td>77.48</td>\n",
       "      <td>Sci&amp;Tech</td>\n",
       "      <td>Yes</td>\n",
       "      <td>86.5</td>\n",
       "      <td>Mkt&amp;Fin</td>\n",
       "      <td>66.28</td>\n",
       "      <td>Placed</td>\n",
       "      <td>200000.0</td>\n",
       "    </tr>\n",
       "    <tr>\n",
       "      <th>2</th>\n",
       "      <td>M</td>\n",
       "      <td>65.00</td>\n",
       "      <td>Central</td>\n",
       "      <td>68.00</td>\n",
       "      <td>Central</td>\n",
       "      <td>Arts</td>\n",
       "      <td>64.00</td>\n",
       "      <td>Comm&amp;Mgmt</td>\n",
       "      <td>No</td>\n",
       "      <td>75.0</td>\n",
       "      <td>Mkt&amp;Fin</td>\n",
       "      <td>57.80</td>\n",
       "      <td>Placed</td>\n",
       "      <td>250000.0</td>\n",
       "    </tr>\n",
       "    <tr>\n",
       "      <th>3</th>\n",
       "      <td>M</td>\n",
       "      <td>56.00</td>\n",
       "      <td>Central</td>\n",
       "      <td>52.00</td>\n",
       "      <td>Central</td>\n",
       "      <td>Science</td>\n",
       "      <td>52.00</td>\n",
       "      <td>Sci&amp;Tech</td>\n",
       "      <td>No</td>\n",
       "      <td>66.0</td>\n",
       "      <td>Mkt&amp;HR</td>\n",
       "      <td>59.43</td>\n",
       "      <td>Not Placed</td>\n",
       "      <td>0.0</td>\n",
       "    </tr>\n",
       "    <tr>\n",
       "      <th>4</th>\n",
       "      <td>M</td>\n",
       "      <td>85.80</td>\n",
       "      <td>Central</td>\n",
       "      <td>73.60</td>\n",
       "      <td>Central</td>\n",
       "      <td>Commerce</td>\n",
       "      <td>73.30</td>\n",
       "      <td>Comm&amp;Mgmt</td>\n",
       "      <td>No</td>\n",
       "      <td>96.8</td>\n",
       "      <td>Mkt&amp;Fin</td>\n",
       "      <td>55.50</td>\n",
       "      <td>Placed</td>\n",
       "      <td>425000.0</td>\n",
       "    </tr>\n",
       "    <tr>\n",
       "      <th>...</th>\n",
       "      <td>...</td>\n",
       "      <td>...</td>\n",
       "      <td>...</td>\n",
       "      <td>...</td>\n",
       "      <td>...</td>\n",
       "      <td>...</td>\n",
       "      <td>...</td>\n",
       "      <td>...</td>\n",
       "      <td>...</td>\n",
       "      <td>...</td>\n",
       "      <td>...</td>\n",
       "      <td>...</td>\n",
       "      <td>...</td>\n",
       "      <td>...</td>\n",
       "    </tr>\n",
       "    <tr>\n",
       "      <th>210</th>\n",
       "      <td>M</td>\n",
       "      <td>80.60</td>\n",
       "      <td>Others</td>\n",
       "      <td>82.00</td>\n",
       "      <td>Others</td>\n",
       "      <td>Commerce</td>\n",
       "      <td>77.60</td>\n",
       "      <td>Comm&amp;Mgmt</td>\n",
       "      <td>No</td>\n",
       "      <td>91.0</td>\n",
       "      <td>Mkt&amp;Fin</td>\n",
       "      <td>74.49</td>\n",
       "      <td>Placed</td>\n",
       "      <td>400000.0</td>\n",
       "    </tr>\n",
       "    <tr>\n",
       "      <th>211</th>\n",
       "      <td>M</td>\n",
       "      <td>58.00</td>\n",
       "      <td>Others</td>\n",
       "      <td>60.00</td>\n",
       "      <td>Others</td>\n",
       "      <td>Science</td>\n",
       "      <td>72.00</td>\n",
       "      <td>Sci&amp;Tech</td>\n",
       "      <td>No</td>\n",
       "      <td>74.0</td>\n",
       "      <td>Mkt&amp;Fin</td>\n",
       "      <td>53.62</td>\n",
       "      <td>Placed</td>\n",
       "      <td>275000.0</td>\n",
       "    </tr>\n",
       "    <tr>\n",
       "      <th>212</th>\n",
       "      <td>M</td>\n",
       "      <td>67.00</td>\n",
       "      <td>Others</td>\n",
       "      <td>67.00</td>\n",
       "      <td>Others</td>\n",
       "      <td>Commerce</td>\n",
       "      <td>73.00</td>\n",
       "      <td>Comm&amp;Mgmt</td>\n",
       "      <td>Yes</td>\n",
       "      <td>59.0</td>\n",
       "      <td>Mkt&amp;Fin</td>\n",
       "      <td>69.72</td>\n",
       "      <td>Placed</td>\n",
       "      <td>295000.0</td>\n",
       "    </tr>\n",
       "    <tr>\n",
       "      <th>213</th>\n",
       "      <td>F</td>\n",
       "      <td>74.00</td>\n",
       "      <td>Others</td>\n",
       "      <td>66.00</td>\n",
       "      <td>Others</td>\n",
       "      <td>Commerce</td>\n",
       "      <td>58.00</td>\n",
       "      <td>Comm&amp;Mgmt</td>\n",
       "      <td>No</td>\n",
       "      <td>70.0</td>\n",
       "      <td>Mkt&amp;HR</td>\n",
       "      <td>60.23</td>\n",
       "      <td>Placed</td>\n",
       "      <td>204000.0</td>\n",
       "    </tr>\n",
       "    <tr>\n",
       "      <th>214</th>\n",
       "      <td>M</td>\n",
       "      <td>62.00</td>\n",
       "      <td>Central</td>\n",
       "      <td>58.00</td>\n",
       "      <td>Others</td>\n",
       "      <td>Science</td>\n",
       "      <td>53.00</td>\n",
       "      <td>Comm&amp;Mgmt</td>\n",
       "      <td>No</td>\n",
       "      <td>89.0</td>\n",
       "      <td>Mkt&amp;HR</td>\n",
       "      <td>60.22</td>\n",
       "      <td>Not Placed</td>\n",
       "      <td>0.0</td>\n",
       "    </tr>\n",
       "  </tbody>\n",
       "</table>\n",
       "<p>215 rows × 14 columns</p>\n",
       "</div>"
      ],
      "text/plain": [
       "    gender  ssc_p    ssc_b  hsc_p    hsc_b     hsc_s  degree_p   degree_t  \\\n",
       "0        M  67.00   Others  91.00   Others  Commerce     58.00   Sci&Tech   \n",
       "1        M  79.33  Central  78.33   Others   Science     77.48   Sci&Tech   \n",
       "2        M  65.00  Central  68.00  Central      Arts     64.00  Comm&Mgmt   \n",
       "3        M  56.00  Central  52.00  Central   Science     52.00   Sci&Tech   \n",
       "4        M  85.80  Central  73.60  Central  Commerce     73.30  Comm&Mgmt   \n",
       "..     ...    ...      ...    ...      ...       ...       ...        ...   \n",
       "210      M  80.60   Others  82.00   Others  Commerce     77.60  Comm&Mgmt   \n",
       "211      M  58.00   Others  60.00   Others   Science     72.00   Sci&Tech   \n",
       "212      M  67.00   Others  67.00   Others  Commerce     73.00  Comm&Mgmt   \n",
       "213      F  74.00   Others  66.00   Others  Commerce     58.00  Comm&Mgmt   \n",
       "214      M  62.00  Central  58.00   Others   Science     53.00  Comm&Mgmt   \n",
       "\n",
       "    workex  etest_p specialisation  mba_p      status    salary  \n",
       "0       No     55.0         Mkt&HR  58.80      Placed  270000.0  \n",
       "1      Yes     86.5        Mkt&Fin  66.28      Placed  200000.0  \n",
       "2       No     75.0        Mkt&Fin  57.80      Placed  250000.0  \n",
       "3       No     66.0         Mkt&HR  59.43  Not Placed       0.0  \n",
       "4       No     96.8        Mkt&Fin  55.50      Placed  425000.0  \n",
       "..     ...      ...            ...    ...         ...       ...  \n",
       "210     No     91.0        Mkt&Fin  74.49      Placed  400000.0  \n",
       "211     No     74.0        Mkt&Fin  53.62      Placed  275000.0  \n",
       "212    Yes     59.0        Mkt&Fin  69.72      Placed  295000.0  \n",
       "213     No     70.0         Mkt&HR  60.23      Placed  204000.0  \n",
       "214     No     89.0         Mkt&HR  60.22  Not Placed       0.0  \n",
       "\n",
       "[215 rows x 14 columns]"
      ]
     },
     "execution_count": 8,
     "metadata": {},
     "output_type": "execute_result"
    }
   ],
   "source": [
    "Dataset"
   ]
  },
  {
   "cell_type": "markdown",
   "id": "ff318bd4-d29f-494c-adaa-6057bc5b6d09",
   "metadata": {},
   "source": [
    "**================================================================================================**"
   ]
  },
  {
   "cell_type": "markdown",
   "id": "3b2a0037-596f-4b56-81ed-caef7a9156c1",
   "metadata": {},
   "source": [
    "## Q2)How many of them are not placed?"
   ]
  },
  {
   "cell_type": "code",
   "execution_count": 9,
   "id": "e0e65c5d-0479-4974-b7f6-b808c183c9b8",
   "metadata": {},
   "outputs": [
    {
     "data": {
      "text/plain": [
       "67"
      ]
     },
     "execution_count": 9,
     "metadata": {},
     "output_type": "execute_result"
    }
   ],
   "source": [
    "Dataset[\"status\"].value_counts()[\"Not Placed\"]"
   ]
  },
  {
   "cell_type": "markdown",
   "id": "1f25804d-866b-426c-9c5a-2c464bbe271f",
   "metadata": {},
   "source": [
    "### Explanation:\n",
    "\n",
    "We can determine the number of candidates who have not been placed by analysing the **Status** column. Specifically, we can count how many times the value **\"Not Placed\"** appears in the dataset using the concept of **frequency**."
   ]
  },
  {
   "cell_type": "markdown",
   "id": "ab744c6d-0145-415f-b14f-1b66e1b289b9",
   "metadata": {},
   "source": [
    "**================================================================================================**"
   ]
  },
  {
   "cell_type": "code",
   "execution_count": 10,
   "id": "16d388d2-dae3-43e6-82b4-a7b57c7dce64",
   "metadata": {},
   "outputs": [],
   "source": [
    "from Univariate_codings import univariate"
   ]
  },
  {
   "cell_type": "code",
   "execution_count": 11,
   "id": "f75c92a8-3fbd-4be6-a15b-c4d2cfe8356f",
   "metadata": {},
   "outputs": [
    {
     "data": {
      "text/plain": [
       "(['ssc_p', 'hsc_p', 'degree_p', 'etest_p', 'mba_p', 'salary'],\n",
       " ['gender',\n",
       "  'ssc_b',\n",
       "  'hsc_b',\n",
       "  'hsc_s',\n",
       "  'degree_t',\n",
       "  'workex',\n",
       "  'specialisation',\n",
       "  'status'])"
      ]
     },
     "execution_count": 11,
     "metadata": {},
     "output_type": "execute_result"
    }
   ],
   "source": [
    "univariate.QuanQual(Dataset)"
   ]
  },
  {
   "cell_type": "code",
   "execution_count": 12,
   "id": "a4c4630d-a4e4-437c-88c2-ca514b9d57a7",
   "metadata": {},
   "outputs": [],
   "source": [
    "Quan,Qual = univariate.QuanQual(Dataset)"
   ]
  },
  {
   "cell_type": "code",
   "execution_count": 13,
   "id": "63c5fe4a-1831-4aab-9303-ec6e7b0a9b64",
   "metadata": {},
   "outputs": [
    {
     "data": {
      "text/plain": [
       "['ssc_p', 'hsc_p', 'degree_p', 'etest_p', 'mba_p', 'salary']"
      ]
     },
     "execution_count": 13,
     "metadata": {},
     "output_type": "execute_result"
    }
   ],
   "source": [
    "Quan"
   ]
  },
  {
   "cell_type": "code",
   "execution_count": 14,
   "id": "269e3133-3c7b-46bf-a2a7-797eb6fa36a7",
   "metadata": {},
   "outputs": [
    {
     "data": {
      "text/plain": [
       "['gender',\n",
       " 'ssc_b',\n",
       " 'hsc_b',\n",
       " 'hsc_s',\n",
       " 'degree_t',\n",
       " 'workex',\n",
       " 'specialisation',\n",
       " 'status']"
      ]
     },
     "execution_count": 14,
     "metadata": {},
     "output_type": "execute_result"
    }
   ],
   "source": [
    "Qual"
   ]
  },
  {
   "cell_type": "markdown",
   "id": "c1cea686-fcb1-4f85-93f1-9469920853eb",
   "metadata": {},
   "source": [
    "**================================================================================================**"
   ]
  },
  {
   "cell_type": "markdown",
   "id": "14793c39-33f9-407f-b579-f24b4dd76410",
   "metadata": {},
   "source": [
    "## Q3)Find the reason for non placement from the dataset?"
   ]
  },
  {
   "cell_type": "code",
   "execution_count": 15,
   "id": "ff2482fe-bff6-4be4-9427-2ee9fbe5e7b6",
   "metadata": {},
   "outputs": [
    {
     "name": "stdout",
     "output_type": "stream",
     "text": [
      "ssc_p: p-value = 3.2462519065276938e-21\n",
      "hsc_p: p-value = 6.777404050505178e-13\n",
      "degree_p: p-value = 4.4075682102481147e-13\n",
      "etest_p: p-value = 0.04957858866597002\n",
      "mba_p: p-value = 0.2566949127537054\n",
      "salary: p-value = 2.9183857688343025e-77\n"
     ]
    }
   ],
   "source": [
    "from scipy.stats import ttest_ind\n",
    "\n",
    "for col in Quan:\n",
    "    placed = Dataset[Dataset['status']=='Placed'][col]\n",
    "    not_placed = Dataset[Dataset['status']=='Not Placed'][col]\n",
    "    stat, p = ttest_ind(placed, not_placed, equal_var=False)\n",
    "    print(f\"{col}: p-value = {p}\")\n"
   ]
  },
  {
   "cell_type": "markdown",
   "id": "b7f43488-bb10-458a-bd18-b53276ea5e65",
   "metadata": {},
   "source": [
    "## Explanation:\n",
    "\n",
    "- I have compared all the acedemic scores with the status and from the p-value analysis, the main reasons for non-placement are lower academic performance in SSC (10th), HSC (12th), Graduation, and Employability Test scores.\n",
    "\n",
    "- The MBA percentage does not significantly affect placement, meaning students with low MBA scores are not necessarily the ones who remain unplaced.\n",
    "\n",
    "- In simple words, Non-placement is mainly due to weaker performance in earlier academics and the employability test"
   ]
  },
  {
   "cell_type": "markdown",
   "id": "b6d189f6-3e87-4c99-b3e0-5954e80b69e4",
   "metadata": {},
   "source": [
    "**================================================================================================**"
   ]
  },
  {
   "cell_type": "markdown",
   "id": "843443db-0581-40f7-ab8e-673108e3d7c6",
   "metadata": {},
   "source": [
    "## Q4)What kind of relation between salary and mba_p"
   ]
  },
  {
   "cell_type": "code",
   "execution_count": 16,
   "id": "4de15778-ee54-480d-bd12-96661a79227f",
   "metadata": {},
   "outputs": [
    {
     "data": {
      "text/html": [
       "<div>\n",
       "<style scoped>\n",
       "    .dataframe tbody tr th:only-of-type {\n",
       "        vertical-align: middle;\n",
       "    }\n",
       "\n",
       "    .dataframe tbody tr th {\n",
       "        vertical-align: top;\n",
       "    }\n",
       "\n",
       "    .dataframe thead th {\n",
       "        text-align: right;\n",
       "    }\n",
       "</style>\n",
       "<table border=\"1\" class=\"dataframe\">\n",
       "  <thead>\n",
       "    <tr style=\"text-align: right;\">\n",
       "      <th></th>\n",
       "      <th>mba_p</th>\n",
       "      <th>salary</th>\n",
       "    </tr>\n",
       "  </thead>\n",
       "  <tbody>\n",
       "    <tr>\n",
       "      <th>mba_p</th>\n",
       "      <td>1.000000</td>\n",
       "      <td>0.139823</td>\n",
       "    </tr>\n",
       "    <tr>\n",
       "      <th>salary</th>\n",
       "      <td>0.139823</td>\n",
       "      <td>1.000000</td>\n",
       "    </tr>\n",
       "  </tbody>\n",
       "</table>\n",
       "</div>"
      ],
      "text/plain": [
       "           mba_p    salary\n",
       "mba_p   1.000000  0.139823\n",
       "salary  0.139823  1.000000"
      ]
     },
     "execution_count": 16,
     "metadata": {},
     "output_type": "execute_result"
    }
   ],
   "source": [
    "Dataset[[\"mba_p\", \"salary\"]].corr()"
   ]
  },
  {
   "cell_type": "markdown",
   "id": "d0a4a661-6bf7-4b3f-99ea-ef76217b6633",
   "metadata": {},
   "source": [
    "### Explanation: \n",
    "\n",
    "There is a **weak positive correlation (r ≈ 0.14)** between MBA percentage and salary, meaning MBA% has very little effect on salary levels."
   ]
  },
  {
   "cell_type": "markdown",
   "id": "63d65a26-522a-4213-97be-a6575abce73e",
   "metadata": {},
   "source": [
    "**================================================================================================**"
   ]
  },
  {
   "cell_type": "markdown",
   "id": "98648182-20c0-4950-b154-f40f927252a0",
   "metadata": {},
   "source": [
    "## Q5)Which specialization is getting minimum salary?"
   ]
  },
  {
   "cell_type": "code",
   "execution_count": 37,
   "id": "d33a7711-1aee-4d57-add7-b2e2f239c019",
   "metadata": {},
   "outputs": [],
   "source": [
    "# Creating a DataFrame for only placed students' salaries\n",
    "placed_salary_df = Dataset[Dataset['status'] == 'Placed'][['specialisation', 'salary']]\n"
   ]
  },
  {
   "cell_type": "code",
   "execution_count": 36,
   "id": "3a33fb81-864d-4eaa-a0cb-5ee1bfb76696",
   "metadata": {},
   "outputs": [
    {
     "name": "stdout",
     "output_type": "stream",
     "text": [
      "specialisation\n",
      "Mkt&Fin    200000.0\n",
      "Mkt&HR     200000.0\n",
      "Name: salary, dtype: float64\n"
     ]
    }
   ],
   "source": [
    "# Filter only placed candidates\n",
    "placed_students = Dataset[Dataset[\"status\"] == \"Placed\"]\n",
    "\n",
    "# Find minimum salary for each Specialisation\n",
    "min_salary_by_specialisation = placed_students.groupby(\"specialisation\")[\"salary\"].min()\n",
    "\n",
    "print(min_salary_by_specialisation)\n"
   ]
  },
  {
   "cell_type": "markdown",
   "id": "4bb63183-eac8-4c94-b58e-07d61d99b186",
   "metadata": {},
   "source": [
    "### Explanation:\n",
    "\n",
    "- In our Dataset, \"Not Placed\" students (salary = 0) were included; the minimum salary was always 0, which was not meaningful.\n",
    "\n",
    "- By filtering only placed students, we ensure the minimum salaries are based only on those who actually received offers.\n",
    "\n",
    "- After filtering, both Mkt&Fin and Mkt&HR have the same minimum salary of 200000."
   ]
  },
  {
   "cell_type": "markdown",
   "id": "52ef98e8-8ebe-4127-b445-db277f120420",
   "metadata": {},
   "source": [
    "**================================================================================================**"
   ]
  },
  {
   "cell_type": "markdown",
   "id": "cde7e4a0-9ba1-45e2-9f79-f4f85e5a2230",
   "metadata": {},
   "source": [
    "## Q6) How many of them getting above 500000 salary?"
   ]
  },
  {
   "cell_type": "code",
   "execution_count": 40,
   "id": "f3806f9e-7fb4-4405-9913-a6cbec9efc3f",
   "metadata": {},
   "outputs": [
    {
     "data": {
      "text/plain": [
       "3"
      ]
     },
     "execution_count": 40,
     "metadata": {},
     "output_type": "execute_result"
    }
   ],
   "source": [
    "Dataset[Dataset[\"salary\"] > 500000].shape[0]"
   ]
  },
  {
   "cell_type": "markdown",
   "id": "d9d3f240-5192-47f8-84e8-10b78fc1ae75",
   "metadata": {},
   "source": [
    "### Explanation:\n",
    "\n",
    "As per the query we checked **3 candidates** are getting above 500000 salary"
   ]
  },
  {
   "cell_type": "markdown",
   "id": "77243e85-6894-477f-ac70-7ebf81c35cc1",
   "metadata": {},
   "source": [
    "**================================================================================================**"
   ]
  },
  {
   "cell_type": "markdown",
   "id": "3e02a8b5-8be8-4f8f-9fcc-8165d3d37f04",
   "metadata": {},
   "source": [
    "## Q7) Test the Analysis of Variance between etest_p and mba_p at signifance level 5%.(Make decision using Hypothesis Testing)"
   ]
  },
  {
   "cell_type": "code",
   "execution_count": 41,
   "id": "d33fea57-a5f4-46f2-9e5f-6c065c780dd5",
   "metadata": {},
   "outputs": [
    {
     "data": {
      "text/plain": [
       "F_onewayResult(statistic=98.64487057324706, pvalue=4.672547689133573e-21)"
      ]
     },
     "execution_count": 41,
     "metadata": {},
     "output_type": "execute_result"
    }
   ],
   "source": [
    "import scipy.stats as stats\n",
    "\n",
    "stats.f_oneway(Dataset[\"etest_p\"], Dataset[\"mba_p\"])"
   ]
  },
  {
   "cell_type": "markdown",
   "id": "d6990044-64a1-4b20-ad7e-ae919f236b02",
   "metadata": {},
   "source": [
    "### Explanation:\n",
    "\n",
    "The ANOVA test was conducted between etest_p and mba_p at a 5% significance level. The results show **F = 98.64** and **p-value = **4.67e-21**. Since the p-value is **far less than 0.05**, we **reject the null hypothesis**. This indicates that there is a statistically significant difference/relationship between employability test percentage (etest_p) and MBA percentage (mba_p)."
   ]
  },
  {
   "cell_type": "markdown",
   "id": "2a7dbea7-0339-4121-834c-2cafaebe8946",
   "metadata": {},
   "source": [
    "**================================================================================================**"
   ]
  },
  {
   "cell_type": "markdown",
   "id": "c5e8018d-a0c1-4927-a24c-060a23acefb5",
   "metadata": {},
   "source": [
    "## Q8) Test the similarity between the degree_t (Sci&Tech) and specialisaion (Mkt&HR) with respect to salary at significance level of 5%. (Make decision using Hypothesis Testing)"
   ]
  },
  {
   "cell_type": "code",
   "execution_count": 46,
   "id": "5ee4c0b3-6aa2-4c2c-893f-81593295a541",
   "metadata": {},
   "outputs": [
    {
     "data": {
      "text/plain": [
       "TtestResult(statistic=2.692041243555374, pvalue=0.007897969943471179, df=152.0)"
      ]
     },
     "execution_count": 46,
     "metadata": {},
     "output_type": "execute_result"
    }
   ],
   "source": [
    "from scipy.stats import ttest_ind\n",
    "Dataset = Dataset.dropna()\n",
    "Sci_Tech = Dataset[Dataset[\"degree_t\"] == \"Sci&Tech\"][\"salary\"]\n",
    "Mar_Hr = Dataset[Dataset[\"specialisation\"] == \"Mkt&HR\"][\"salary\"]\n",
    "\n",
    "ttest_ind(Sci_Tech, Mar_Hr)"
   ]
  },
  {
   "cell_type": "markdown",
   "id": "be4d7282-5fd6-4807-bd2f-e9c7531122f9",
   "metadata": {},
   "source": [
    "### Explanation:\n",
    "\n",
    "At 5% significance level, the **p-value (0.0078) is less than 0.05**, so we **reject the null hypothesis**. This indicates that there is a **significant difference** in salary between students from the Sci&Tech degree background and those with Marketing & HR specialisation. The group with the lower mean salary can be considered the one earning less."
   ]
  },
  {
   "cell_type": "markdown",
   "id": "ea3e26bf-0f40-47d5-bc32-7fbcf5a3cd0a",
   "metadata": {},
   "source": [
    "**================================================================================================**"
   ]
  },
  {
   "cell_type": "markdown",
   "id": "f599163f-e2d3-4b40-88c5-563cfe3b96f9",
   "metadata": {},
   "source": [
    "## Q9) Convert the normal distribution to standard normal distribution for salary column"
   ]
  },
  {
   "cell_type": "code",
   "execution_count": 55,
   "id": "c84b8c4d-7fb8-4247-94c9-12f11d516df5",
   "metadata": {},
   "outputs": [],
   "source": [
    "def stdND(Dataset):\n",
    "\n",
    "    Mean = Dataset.mean()\n",
    "    Std = Dataset.std()\n",
    "\n",
    "    values = [i for i in Dataset]\n",
    "    z_score = [((j - Mean)/Std) for j in values]\n",
    "\n",
    "    sns.distplot(z_score, kde = True)"
   ]
  },
  {
   "cell_type": "code",
   "execution_count": 53,
   "id": "9c703623-bb4b-4110-9f72-dad1a5b3ab9e",
   "metadata": {},
   "outputs": [
    {
     "data": {
      "image/png": "[encoded data removed]",
      "text/plain": [
       "<Figure size 640x480 with 1 Axes>"
      ]
     },
     "metadata": {},
     "output_type": "display_data"
    }
   ],
   "source": [
    "stdND(Dataset[\"salary\"])"
   ]
  },
  {
   "cell_type": "markdown",
   "id": "e3adae99-1573-4e67-a581-318323b0d874",
   "metadata": {},
   "source": [
    "**================================================================================================**"
   ]
  },
  {
   "cell_type": "markdown",
   "id": "4fdde1c7-8a70-4776-8ba7-b514e788814f",
   "metadata": {},
   "source": [
    "## Q10) What is the probability Density Function of the salary range from 700000 to 900000?"
   ]
  },
  {
   "cell_type": "code",
   "execution_count": 64,
   "id": "d7c44a63-df0a-4f47-b22e-67a06e362259",
   "metadata": {},
   "outputs": [],
   "source": [
    "def Prob_Density(Dataset, Startrange, Endrange):\n",
    "    from matplotlib import pyplot\n",
    "    from scipy.stats import norm\n",
    "    ax = sns.distplot(Dataset, kde = True, kde_kws = {\"color\" : \"violet\"}, color = \"pink\")\n",
    "    pyplot.axvline(Startrange, color = \"red\")\n",
    "    pyplot.axvline(Endrange, color = \"red\")\n",
    "\n",
    "    sample = Dataset\n",
    "    sample_mean = sample.mean()\n",
    "    sample_std = sample.std()\n",
    "\n",
    "    dist = norm(sample_mean, sample_std)\n",
    "    values = [value for value in range(Startrange, Endrange)]\n",
    "    Probabilities = [dist.pdf(value) for value in values]\n",
    "    Prob = sum(Probabilities)\n",
    "\n",
    "    return Prob"
   ]
  },
  {
   "cell_type": "code",
   "execution_count": 67,
   "id": "d929fdf2-a9ae-43bd-841f-0e4178dd201f",
   "metadata": {},
   "outputs": [
    {
     "data": {
      "text/plain": [
       "0.0005973310593974901"
      ]
     },
     "execution_count": 67,
     "metadata": {},
     "output_type": "execute_result"
    },
    {
     "data": {
      "image/png": "[encoded data removed]",
      "text/plain": [
       "<Figure size 640x480 with 1 Axes>"
      ]
     },
     "metadata": {},
     "output_type": "display_data"
    }
   ],
   "source": [
    "Prob_Density(Dataset[\"salary\"], 700000, 900000)"
   ]
  },
  {
   "cell_type": "markdown",
   "id": "74f92877-5671-44f7-9fc0-cbb3c394104a",
   "metadata": {},
   "source": [
    "**================================================================================================**"
   ]
  },
  {
   "cell_type": "markdown",
   "id": "3b78f01a-7c41-4a24-9703-f64a79c942c8",
   "metadata": {},
   "source": [
    "## Q11) Test the similarity between the degree_t (Sci&Tech) with respect to etest_p and mba_p at significance level of 5%.(Make decision using Hypothesis Testing)"
   ]
  },
  {
   "cell_type": "code",
   "execution_count": 69,
   "id": "c9013f63-0001-4a34-925a-6da9e93e5651",
   "metadata": {},
   "outputs": [
    {
     "data": {
      "text/plain": [
       "TtestResult(statistic=5.0049844583693615, pvalue=5.517920600505392e-06, df=58)"
      ]
     },
     "execution_count": 69,
     "metadata": {},
     "output_type": "execute_result"
    }
   ],
   "source": [
    "from scipy.stats import ttest_rel\n",
    "\n",
    "degree_t = Dataset[Dataset[\"degree_t\"] == \"Sci&Tech\"][\"etest_p\"]\n",
    "degree_t1 = Dataset[Dataset[\"degree_t\"] == \"Sci&Tech\"][\"mba_p\"]\n",
    "\n",
    "ttest_rel(degree_t, degree_t1)"
   ]
  },
  {
   "cell_type": "markdown",
   "id": "0ec7e32c-6c36-47be-b7eb-af9c53b48dc2",
   "metadata": {},
   "source": [
    "### Explanation:\n",
    "\n",
    "The paired t-test shows a **significant difference between etest_p and mba_p** for **Sci&Tech students** (t=5.00, p < 0.05). Hence, we **reject the null hypothesis** and conclude that etest_p and mba_p are not similar, indicating students perform differently in these two exams."
   ]
  },
  {
   "cell_type": "markdown",
   "id": "43772ae7-9577-48ae-b449-e46c0fb7b61a",
   "metadata": {},
   "source": [
    "**================================================================================================**"
   ]
  },
  {
   "cell_type": "markdown",
   "id": "4e7b0a85-6c77-4540-969f-d9df768c92d8",
   "metadata": {},
   "source": [
    "## Q12) Which parameter is highly correlated with salary?"
   ]
  },
  {
   "cell_type": "code",
   "execution_count": 71,
   "id": "b21e99a4-a7e1-4125-81f0-c15f55288fd4",
   "metadata": {},
   "outputs": [
    {
     "data": {
      "text/html": [
       "<div>\n",
       "<style scoped>\n",
       "    .dataframe tbody tr th:only-of-type {\n",
       "        vertical-align: middle;\n",
       "    }\n",
       "\n",
       "    .dataframe tbody tr th {\n",
       "        vertical-align: top;\n",
       "    }\n",
       "\n",
       "    .dataframe thead th {\n",
       "        text-align: right;\n",
       "    }\n",
       "</style>\n",
       "<table border=\"1\" class=\"dataframe\">\n",
       "  <thead>\n",
       "    <tr style=\"text-align: right;\">\n",
       "      <th></th>\n",
       "      <th>ssc_p</th>\n",
       "      <th>hsc_p</th>\n",
       "      <th>degree_p</th>\n",
       "      <th>etest_p</th>\n",
       "      <th>mba_p</th>\n",
       "      <th>salary</th>\n",
       "    </tr>\n",
       "  </thead>\n",
       "  <tbody>\n",
       "    <tr>\n",
       "      <th>ssc_p</th>\n",
       "      <td>1.000000</td>\n",
       "      <td>0.511472</td>\n",
       "      <td>0.538404</td>\n",
       "      <td>0.261993</td>\n",
       "      <td>0.388478</td>\n",
       "      <td>0.538090</td>\n",
       "    </tr>\n",
       "    <tr>\n",
       "      <th>hsc_p</th>\n",
       "      <td>0.511472</td>\n",
       "      <td>1.000000</td>\n",
       "      <td>0.434206</td>\n",
       "      <td>0.245113</td>\n",
       "      <td>0.354823</td>\n",
       "      <td>0.452569</td>\n",
       "    </tr>\n",
       "    <tr>\n",
       "      <th>degree_p</th>\n",
       "      <td>0.538404</td>\n",
       "      <td>0.434206</td>\n",
       "      <td>1.000000</td>\n",
       "      <td>0.224470</td>\n",
       "      <td>0.402364</td>\n",
       "      <td>0.408371</td>\n",
       "    </tr>\n",
       "    <tr>\n",
       "      <th>etest_p</th>\n",
       "      <td>0.261993</td>\n",
       "      <td>0.245113</td>\n",
       "      <td>0.224470</td>\n",
       "      <td>1.000000</td>\n",
       "      <td>0.218055</td>\n",
       "      <td>0.186988</td>\n",
       "    </tr>\n",
       "    <tr>\n",
       "      <th>mba_p</th>\n",
       "      <td>0.388478</td>\n",
       "      <td>0.354823</td>\n",
       "      <td>0.402364</td>\n",
       "      <td>0.218055</td>\n",
       "      <td>1.000000</td>\n",
       "      <td>0.139823</td>\n",
       "    </tr>\n",
       "    <tr>\n",
       "      <th>salary</th>\n",
       "      <td>0.538090</td>\n",
       "      <td>0.452569</td>\n",
       "      <td>0.408371</td>\n",
       "      <td>0.186988</td>\n",
       "      <td>0.139823</td>\n",
       "      <td>1.000000</td>\n",
       "    </tr>\n",
       "  </tbody>\n",
       "</table>\n",
       "</div>"
      ],
      "text/plain": [
       "             ssc_p     hsc_p  degree_p   etest_p     mba_p    salary\n",
       "ssc_p     1.000000  0.511472  0.538404  0.261993  0.388478  0.538090\n",
       "hsc_p     0.511472  1.000000  0.434206  0.245113  0.354823  0.452569\n",
       "degree_p  0.538404  0.434206  1.000000  0.224470  0.402364  0.408371\n",
       "etest_p   0.261993  0.245113  0.224470  1.000000  0.218055  0.186988\n",
       "mba_p     0.388478  0.354823  0.402364  0.218055  1.000000  0.139823\n",
       "salary    0.538090  0.452569  0.408371  0.186988  0.139823  1.000000"
      ]
     },
     "execution_count": 71,
     "metadata": {},
     "output_type": "execute_result"
    }
   ],
   "source": [
    "Dataset[Quan].corr()"
   ]
  },
  {
   "cell_type": "markdown",
   "id": "79195421-ded8-411f-96cb-0f16e707c6ed",
   "metadata": {},
   "source": [
    "### Explanation:\n",
    "\n",
    "Among all parameters, **ssc_p** has the **highest positive correlation with salary (r = 0.538)**. This suggests that a student’s secondary school performance is the most influential academic factor in determining salary compared to higher education scores."
   ]
  },
  {
   "cell_type": "markdown",
   "id": "132e6ced-3a2c-47b1-b2a6-587778c787d7",
   "metadata": {},
   "source": [
    "**================================================================================================**"
   ]
  },
  {
   "cell_type": "markdown",
   "id": "91eac2d9-a1a6-4392-8e3f-889c99ba319a",
   "metadata": {},
   "source": [
    "## Q13) Plot any useful graph and explain it."
   ]
  },
  {
   "cell_type": "code",
   "execution_count": 80,
   "id": "5204838b-8172-420c-b796-6874d83cd174",
   "metadata": {},
   "outputs": [
    {
     "data": {
      "image/png": "[encoded data removed]",
      "text/plain": [
       "<Figure size 800x500 with 1 Axes>"
      ]
     },
     "metadata": {},
     "output_type": "display_data"
    }
   ],
   "source": [
    "import matplotlib.pyplot as plt\n",
    "import seaborn as sns\n",
    "\n",
    "plt.figure(figsize = (8,5))\n",
    "sns.histplot(Dataset[\"salary\"], bins = 30, kde = True, color = \"blue\")\n",
    "plt.title(\"Distribution of Salary\")\n",
    "plt.xlabel(\"Salary\")\n",
    "plt.ylabel(\"Frequency\")\n",
    "plt.show()\n",
    "\n"
   ]
  },
  {
   "cell_type": "markdown",
   "id": "406add65-251c-43ae-9d7a-1ce5173105e8",
   "metadata": {},
   "source": [
    "### Explanation:\n",
    "\n",
    "This histogram shows the distribution of salaries for candidates.\n",
    "\n",
    "- We can clearly see a **very tall bar at 0 salary**, which represents the candidates who were **not placed**.\n",
    "\n",
    "- Among the placed candidates, most salaries fall in the range of **200,000 to 300,000**, forming the peak of the distribution.\n",
    "\n",
    "- The curve is **positively skewed (right-skewed)** because most candidates earn salaries in the **lower to middle ranges**, while only a **few candidates** get **very high salaries (towards 600,000 – 900,000)**.\n",
    "\n",
    "- The distribution is also **leptokurtic**, meaning it is more peaked compared to a normal distribution — most salaries are concentrated around a narrow range."
   ]
  }
 ],
 "metadata": {
  "kernelspec": {
   "display_name": "Python 3 (ipykernel)",
   "language": "python",
   "name": "python3"
  },
  "language_info": {
   "codemirror_mode": {
    "name": "ipython",
    "version": 3
   },
   "file_extension": ".py",
   "mimetype": "text/x-python",
   "name": "python",
   "nbconvert_exporter": "python",
   "pygments_lexer": "ipython3",
   "version": "3.12.7"
  }
 },
 "nbformat": 4,
 "nbformat_minor": 5
}
